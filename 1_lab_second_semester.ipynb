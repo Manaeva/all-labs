{
 "cells": [
  {
   "cell_type": "code",
   "execution_count": null,
   "id": "ba0699c8-84ca-4ebc-93b8-b99dc625ad68",
   "metadata": {},
   "outputs": [],
   "source": []
  }
 ],
 "metadata": {
  "kernelspec": {
   "display_name": "",
   "name": ""
  },
  "language_info": {
   "name": ""
  }
 },
 "nbformat": 4,
 "nbformat_minor": 5
}
